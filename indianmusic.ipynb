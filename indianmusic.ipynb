{
 "cells": [
  {
   "cell_type": "code",
   "execution_count": 1,
   "id": "366dd8df",
   "metadata": {},
   "outputs": [],
   "source": [
    "import requests\n",
    "import pandas as pd\n",
    "import plotly.express as px\n",
    "\n",
    "BASE_URL = \"https://api.reccobeats.com/v1\"\n",
    "\n",
    "\n",
    "\n",
    "\n",
    "\n"
   ]
  },
  {
   "cell_type": "code",
   "execution_count": 2,
   "id": "fc5a6006",
   "metadata": {},
   "outputs": [],
   "source": [
    "def get_tracks_metadata(ids: list):\n",
    "    \"\"\"Fetch track metadata. IDs can be Spotify or ReccoBeats IDs.\"\"\"\n",
    "    params = {\"ids\": \",\".join(ids)}\n",
    "    resp = requests.get(f\"{BASE_URL}/track\", params=params)\n",
    "    resp.raise_for_status()\n",
    "    return resp.json()"
   ]
  },
  {
   "cell_type": "code",
   "execution_count": 3,
   "id": "28d50924",
   "metadata": {},
   "outputs": [],
   "source": [
    "def get_audio_features(track_id: str):\n",
    "    \"\"\"Fetch audio features using ReccoBeats UUID (not Spotify ID).\"\"\"\n",
    "    resp = requests.get(f\"{BASE_URL}/track/{track_id}/audio-features\")\n",
    "    resp.raise_for_status()\n",
    "    return resp.json()\n",
    "\n"
   ]
  },
  {
   "cell_type": "code",
   "execution_count": 4,
   "id": "eb0b4e7a",
   "metadata": {},
   "outputs": [],
   "source": [
    "def get_recommendations(seeds: list, size: int = 10):\n",
    "    \"\"\"Fetch recommendations based on seeds (can be Spotify IDs).\"\"\"\n",
    "    params = {\"seeds\": \",\".join(seeds), \"size\": size}\n",
    "    resp = requests.get(f\"{BASE_URL}/track/recommendation\", params=params)\n",
    "    resp.raise_for_status()\n",
    "    return resp.json()\n"
   ]
  },
  {
   "cell_type": "code",
   "execution_count": 5,
   "id": "f091828b",
   "metadata": {},
   "outputs": [
    {
     "name": "stdout",
     "output_type": "stream",
     "text": [
      "Metadata response: {'content': [{'id': '878dadea-33c5-4c08-bdb9-e2b117475a99', 'trackTitle': 'All Too Well', 'artists': [{'id': 'c7b330b5-a62e-420c-bf02-943ca6bb8746', 'name': 'Taylor Swift', 'href': 'https://open.spotify.com/artist/06HL4z0CvFAxyc27GXpf02'}], 'durationMs': 329160, 'isrc': 'USCJY1231021', 'ean': None, 'upc': None, 'href': 'https://open.spotify.com/track/00vJzaoxM3Eja1doBUhX0P', 'availableCountries': 'AR,AU,AT,BE,BO,BR,BG,CA,CL,CO,CR,CY,CZ,DK,DO,DE,EC,EE,SV,FI,FR,GR,GT,HN,HK,HU,IS,IE,IT,LV,LT,LU,MY,MT,MX,NL,NZ,NI,NO,PA,PY,PE,PH,PL,PT,SG,SK,ES,SE,CH,TW,TR,UY,US,GB,AD,LI,MC,ID,JP,TH,VN,RO,IL,ZA,SA,AE,BH,QA,OM,KW,EG,MA,DZ,TN,LB,JO,PS,IN,BY,KZ,MD,UA,AL,BA,HR,ME,MK,RS,SI,KR,BD,PK,LK,GH,KE,NG,TZ,UG,AG,AM,BS,BB,BZ,BT,BW,BF,CV,CW,DM,FJ,GM,GE,GD,GW,GY,HT,JM,KI,LS,LR,MW,MV,ML,MH,FM,NA,NR,NE,PW,PG,WS,SM,ST,SN,SC,SL,SB,KN,LC,VC,SR,TL,TO,TT,TV,VU,AZ,BN,BI,KH,CM,TD,KM,GQ,SZ,GA,GN,KG,LA,MO,MR,MN,NP,RW,TG,UZ,ZW,BJ,MG,MU,MZ,AO,CI,DJ,ZM,CD,CG,IQ,LY,TJ,VE,ET,XK', 'popularity': 34}]}\n",
      "Track: Unknown | ReccoBeats ID: 878dadea-33c5-4c08-bdb9-e2b117475a99\n",
      "Audio Features: {'id': '878dadea-33c5-4c08-bdb9-e2b117475a99', 'href': 'https://open.spotify.com/track/00vJzaoxM3Eja1doBUhX0P', 'acousticness': 0.0448, 'danceability': 0.463, 'energy': 0.605, 'instrumentalness': 0.000334, 'key': 0, 'liveness': 0.128, 'loudness': -7.803, 'mode': 1, 'speechiness': 0.0293, 'tempo': 186.113, 'valence': 0.317} \n",
      "\n",
      "Recommendations response: {'content': [{'id': '2a6cdb02-eec2-41b1-b7bd-8fddd867a72a', 'trackTitle': 'Mara', 'artists': [{'id': 'eb7b3659-af5c-41ed-914a-2b4b63b0f8e8', 'name': 'Teren', 'href': 'https://open.spotify.com/artist/1uJdHaRmSY9nAlSXqHdGQQ'}], 'durationMs': 221631, 'isrc': 'QZMEP2046116', 'ean': None, 'upc': None, 'href': 'https://open.spotify.com/track/3VUWqcUZTIvdG5ws6dJbKK', 'availableCountries': 'AR,AU,AT,BE,BO,BR,BG,CA,CL,CO,CR,CY,CZ,DK,DO,DE,EC,EE,SV,FI,FR,GR,GT,HN,HK,HU,IS,IE,IT,LV,LT,LU,MY,MT,MX,NL,NZ,NI,NO,PA,PY,PE,PH,PL,PT,SG,SK,ES,SE,CH,TW,TR,UY,US,GB,AD,LI,MC,ID,JP,TH,VN,RO,IL,ZA,SA,AE,BH,QA,OM,KW,EG,MA,DZ,TN,LB,JO,PS,IN,BY,KZ,MD,UA,AL,BA,HR,ME,MK,RS,SI,KR,BD,PK,LK,GH,KE,NG,TZ,UG,AG,AM,BS,BB,BZ,BT,BW,BF,CV,CW,DM,FJ,GM,GE,GD,GW,GY,HT,JM,KI,LS,LR,MW,MV,ML,MH,FM,NA,NR,NE,PW,PG,PR,WS,SM,ST,SN,SC,SL,SB,KN,LC,VC,SR,TL,TO,TT,TV,VU,AZ,BN,BI,KH,CM,TD,KM,GQ,SZ,GA,GN,KG,LA,MO,MR,MN,NP,RW,TG,UZ,ZW,BJ,MG,MU,MZ,AO,CI,DJ,ZM,CD,CG,IQ,LY,TJ,VE,ET,XK', 'popularity': 31}, {'id': '333d5558-4821-4f31-aa0f-b0929b05ba4b', 'trackTitle': \"Don't Take The Girl\", 'artists': [{'id': 'fd2f465b-d516-4483-a146-4f8b5228231c', 'name': 'Tim McGraw', 'href': 'https://open.spotify.com/artist/6roFdX1y5BYSbp60OTJWMd'}], 'durationMs': 249360, 'isrc': 'USCRB9900268', 'ean': None, 'upc': None, 'href': 'https://open.spotify.com/track/53Izi6ReTu0w6P5C5N6rtL', 'availableCountries': 'AR,AU,AT,BE,BO,BR,BG,CA,CL,CO,CR,CY,CZ,DK,DO,DE,EC,EE,SV,FI,FR,GR,GT,HN,HK,HU,IS,IE,IT,LV,LT,LU,MY,MT,MX,NL,NZ,NI,NO,PA,PY,PE,PH,PL,PT,SG,SK,ES,SE,CH,TW,TR,UY,US,GB,AD,LI,MC,ID,JP,TH,VN,RO,IL,ZA,SA,AE,BH,QA,OM,KW,EG,MA,DZ,TN,LB,JO,PS,IN,BY,KZ,MD,UA,AL,BA,HR,ME,MK,RS,SI,KR,BD,PK,LK,GH,KE,NG,TZ,UG,AG,AM,BS,BB,BZ,BT,BW,BF,CV,CW,DM,FJ,GM,GE,GD,GW,GY,HT,JM,KI,LS,LR,MW,MV,ML,MH,FM,NA,NR,NE,PW,PG,PR,WS,SM,ST,SN,SC,SL,SB,KN,LC,VC,SR,TL,TO,TT,TV,VU,AZ,BN,BI,KH,CM,TD,KM,GQ,SZ,GA,GN,KG,LA,MO,MR,MN,NP,RW,TG,UZ,ZW,BJ,MG,MU,MZ,AO,CI,DJ,ZM,CD,CG,IQ,LY,TJ,VE,ET,XK', 'popularity': 37}, {'id': '4f5e0f02-201b-4d5c-9e37-c9347e1874c0', 'trackTitle': 'Sick to Death of Alice-ness', 'artists': [{'id': 'da399749-ab9e-4426-aeae-7f4629b926bd', 'name': 'Wesley Taylor', 'href': 'https://open.spotify.com/artist/70oGZJ7WHC1taCKQWBdTDo'}, {'id': 'd5397a36-4f55-4d98-8800-7cfa5827b604', 'name': 'Colton Ryan', 'href': 'https://open.spotify.com/artist/4e9ML6IDGbv8W09mMlStKc'}, {'id': '8fb6baa6-fcd4-463f-b307-f94448f820d9', 'name': 'Zachary Infante', 'href': 'https://open.spotify.com/artist/6Py0mkoIs2O0h4BYbQhpq0'}, {'id': '9dd3f8dd-04a0-46c1-9e39-3db6d00e3081', 'name': 'Molly Gordon', 'href': 'https://open.spotify.com/artist/3UML5rOte8iN3kzu0rHMG0'}, {'id': '7af80b48-3686-4693-9a8e-7e45d0530a86', 'name': 'Duncan Sheik', 'href': 'https://open.spotify.com/artist/3AO6RTDA16mg8czQI5Y9K0'}, {'id': 'a1b479de-042f-40f8-b029-9bfb89cd17a3', 'name': 'Steven Sater', 'href': 'https://open.spotify.com/artist/3mrC1iFYFRjD9vCgV8Mwdv'}], 'durationMs': 120409, 'isrc': 'USSK31942119', 'ean': None, 'upc': None, 'href': 'https://open.spotify.com/track/32NSbn1Pe0mx032PQNNLUT', 'availableCountries': 'AR,AU,AT,BE,BO,BR,BG,CA,CL,CO,CR,CY,CZ,DK,DO,DE,EC,EE,SV,FI,FR,GR,GT,HN,HK,HU,IS,IE,IT,LV,LT,LU,MY,MT,MX,NL,NZ,NI,NO,PA,PY,PE,PH,PL,PT,SG,SK,ES,SE,CH,TW,TR,UY,US,GB,AD,LI,MC,ID,JP,TH,VN,RO,IL,ZA,SA,AE,BH,QA,OM,KW,EG,MA,DZ,TN,LB,JO,PS,IN,BY,KZ,MD,UA,AL,BA,HR,ME,MK,RS,SI,KR,BD,PK,LK,GH,KE,NG,TZ,UG,AG,AM,BS,BB,BZ,BT,BW,BF,CV,CW,DM,FJ,GM,GE,GD,GW,GY,HT,JM,KI,LS,LR,MW,MV,ML,MH,FM,NA,NR,NE,PW,PG,PR,WS,SM,ST,SN,SC,SL,SB,KN,LC,VC,SR,TL,TO,TT,TV,VU,AZ,BN,BI,KH,CM,TD,KM,GQ,SZ,GA,GN,KG,LA,MO,MR,MN,NP,RW,TG,UZ,ZW,BJ,MG,MU,MZ,AO,CI,DJ,ZM,CD,CG,IQ,LY,TJ,VE,ET,XK', 'popularity': 34}, {'id': 'e3380394-fe1e-46de-a033-0ed784f32be6', 'trackTitle': 'Share with Me the Sun', 'artists': [{'id': '2ce2cd1d-49e2-43c8-9bbf-b55cea84f476', 'name': 'Portugal. The Man', 'href': 'https://open.spotify.com/artist/4kI8Ie27vjvonwaB2ePh8T'}], 'durationMs': 164160, 'isrc': 'USAT21100256', 'ean': None, 'upc': None, 'href': 'https://open.spotify.com/track/60pGI8AIB22qB8rC0BHrA0', 'availableCountries': 'AR,AU,AT,BE,BO,BR,BG,CA,CL,CO,CR,CY,CZ,DK,DO,DE,EC,EE,SV,FI,FR,GR,GT,HN,HK,HU,IS,IE,IT,LV,LT,LU,MY,MT,MX,NL,NZ,NI,NO,PA,PY,PE,PH,PL,PT,SG,SK,ES,SE,CH,TW,TR,UY,US,GB,AD,LI,MC,ID,JP,TH,VN,RO,IL,ZA,SA,AE,BH,QA,OM,KW,EG,MA,DZ,TN,LB,JO,PS,IN,BY,KZ,MD,UA,AL,BA,HR,ME,MK,RS,SI,KR,BD,PK,LK,GH,KE,NG,TZ,UG,AG,AM,BS,BB,BZ,BT,BW,BF,CV,CW,DM,FJ,GM,GE,GD,GW,GY,HT,JM,KI,LS,LR,MW,MV,ML,MH,FM,NA,NR,NE,PW,PG,PR,WS,SM,ST,SN,SC,SL,SB,KN,LC,VC,SR,TL,TO,TT,TV,VU,AZ,BN,BI,KH,CM,TD,KM,GQ,SZ,GA,GN,KG,LA,MO,MR,MN,NP,RW,TG,UZ,ZW,BJ,MG,MU,MZ,AO,CI,DJ,ZM,CD,CG,IQ,LY,TJ,VE,ET,XK', 'popularity': 32}, {'id': 'f341d4a2-6f1c-4c44-b79b-6749e562fdd1', 'trackTitle': 'Não Se Esqueça de Mim - Versão Remasterizada', 'artists': [{'id': '0c331afc-8c45-4d09-8503-a1ebbefd05d0', 'name': 'Roberto Carlos', 'href': 'https://open.spotify.com/artist/7fAKtXSdNInWAIf0jVUz65'}], 'durationMs': 225733, 'isrc': 'BRSME7700129', 'ean': None, 'upc': None, 'href': 'https://open.spotify.com/track/0Whorgof77yVnctFWmUMbb', 'availableCountries': 'AR,AU,AT,BE,BO,BR,BG,CA,CL,CO,CR,CY,CZ,DK,DO,DE,EC,EE,SV,FI,FR,GR,GT,HN,HK,HU,IS,IE,IT,LV,LT,LU,MY,MT,MX,NL,NZ,NI,NO,PA,PY,PE,PH,PL,PT,SG,SK,ES,SE,CH,TW,TR,UY,US,GB,AD,LI,MC,ID,JP,TH,VN,RO,IL,ZA,SA,AE,BH,QA,OM,KW,EG,MA,DZ,TN,LB,JO,PS,IN,BY,KZ,MD,UA,AL,BA,HR,ME,MK,RS,SI,KR,BD,PK,LK,GH,KE,NG,TZ,UG,AG,AM,BS,BB,BZ,BT,BW,BF,CV,CW,DM,FJ,GM,GE,GD,GW,GY,HT,JM,KI,LS,LR,MW,MV,ML,MH,FM,NA,NR,NE,PW,PG,PR,WS,SM,ST,SN,SC,SL,SB,KN,LC,VC,SR,TL,TO,TT,TV,VU,AZ,BN,BI,KH,CM,TD,KM,GQ,SZ,GA,GN,KG,LA,MO,MR,MN,NP,RW,TG,UZ,ZW,BJ,MG,MU,MZ,AO,CI,DJ,ZM,CD,CG,IQ,LY,TJ,VE,ET,XK', 'popularity': 30}]}\n",
      "✅ DataFrame created:\n",
      "     Track                                             Artist  Danceability  \\\n",
      "0  Unknown                                              Teren         0.470   \n",
      "1  Unknown                                         Tim McGraw         0.439   \n",
      "2  Unknown  Wesley Taylor, Colton Ryan, Zachary Infante, M...         0.499   \n",
      "3  Unknown                                  Portugal. The Man         0.515   \n",
      "4  Unknown                                     Roberto Carlos         0.230   \n",
      "\n",
      "     Tempo  Energy  Popularity  \n",
      "0  169.877   0.914          31  \n",
      "1  204.263   0.454          37  \n",
      "2  184.053   0.701          34  \n",
      "3  173.912   0.848          32  \n",
      "4  165.530   0.561          30  \n"
     ]
    }
   ],
   "source": [
    "if __name__ == \"__main__\":\n",
    "    # Example ReccoBeats ID (not Spotify)\n",
    "    recco_track_id = \"878dadea-33c5-4c08-bdb9-e2b117475a99\"\n",
    "\n",
    "    # Step 1: Get metadata -> includes ReccoBeats ID\n",
    "    metadata = get_tracks_metadata([recco_track_id])\n",
    "    print(\"Metadata response:\", metadata)\n",
    "\n",
    "    if metadata.get(\"content\"):\n",
    "        track_info = metadata[\"content\"][0]   # ✅ correct key\n",
    "        recco_id = track_info[\"id\"]\n",
    "        print(\"Track:\", track_info.get(\"name\", \"Unknown\"), \"| ReccoBeats ID:\", recco_id)\n",
    "\n",
    "        # Step 2: Get audio features using ReccoBeats ID\n",
    "        features = get_audio_features(recco_id)\n",
    "        print(\"Audio Features:\", features, \"\\n\")\n",
    "\n",
    "        # Step 3: Get recommendations\n",
    "        recs = get_recommendations([recco_track_id], size=5)\n",
    "        print(\"Recommendations response:\", recs)  # 👀 debug\n",
    "\n",
    "        # Build DataFrame\n",
    "        data = []\n",
    "        # Try both \"tracks\" and \"content\"\n",
    "        for t in recs.get(\"tracks\", recs.get(\"content\", [])):\n",
    "            f = get_audio_features(t[\"id\"])\n",
    "            data.append({\n",
    "                \"Track\": t.get(\"name\", \"Unknown\"),\n",
    "                \"Artist\": \", \".join([a[\"name\"] for a in t.get(\"artists\", [])]),\n",
    "                \"Danceability\": f.get(\"danceability\"),\n",
    "                \"Tempo\": f.get(\"tempo\"),\n",
    "                \"Energy\": f.get(\"energy\"),\n",
    "                \"Popularity\": t.get(\"popularity\", None)\n",
    "            })\n",
    "            df = pd.DataFrame(data)\n",
    "        print(\"✅ DataFrame created:\")\n",
    "        print(df.head())\n",
    "\n",
    "        if df.empty:\n",
    "            print(\"⚠️ No recommendations or features available → nothing to plot\")\n",
    "        else:\n",
    "            fig = px.scatter(\n",
    "                df,\n",
    "                x=\"Tempo\",\n",
    "                y=\"Danceability\",\n",
    "                size=\"Energy\",\n",
    "                color=\"Artist\",\n",
    "                hover_name=\"Track\",\n",
    "                title=\"Danceability vs Tempo of Recommended Songs\"\n",
    "            )\n",
    "            import plotly.io as pio\n",
    "            pio.renderers.default = \"browser\"\n",
    "            fig.show()  # ✅ properly indented\n",
    "\n",
    "    else:\n",
    "        print(\"❌ No metadata found for this track ID\")\n",
    "\n"
   ]
  },
  {
   "cell_type": "code",
   "execution_count": 7,
   "id": "74f87043",
   "metadata": {},
   "outputs": [],
   "source": [
    "df.to_csv(\"spotify_playlist_data.csv\", index=False)"
   ]
  }
 ],
 "metadata": {
  "kernelspec": {
   "display_name": "Python 3",
   "language": "python",
   "name": "python3"
  },
  "language_info": {
   "codemirror_mode": {
    "name": "ipython",
    "version": 3
   },
   "file_extension": ".py",
   "mimetype": "text/x-python",
   "name": "python",
   "nbconvert_exporter": "python",
   "pygments_lexer": "ipython3",
   "version": "3.13.7"
  }
 },
 "nbformat": 4,
 "nbformat_minor": 5
}
